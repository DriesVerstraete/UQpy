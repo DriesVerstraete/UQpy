{
 "cells": [
  {
   "cell_type": "markdown",
   "metadata": {},
   "source": [
    "## Description"
   ]
  },
  {
   "cell_type": "markdown",
   "metadata": {},
   "source": [
    "This example file propagates uncertainty through a model, using UQpy's RunModel module and an input file."
   ]
  },
  {
   "cell_type": "markdown",
   "metadata": {},
   "source": [
    "## Required files"
   ]
  },
  {
   "cell_type": "markdown",
   "metadata": {},
   "source": [
    "To run this example, the following files must be present in the same directory as this Jupyter script:\n",
    "\n",
    "1) matlab_model.py   \n",
    "2) inpt.inp   \n",
    "3) process_matlab_output.py"
   ]
  },
  {
   "cell_type": "markdown",
   "metadata": {},
   "source": [
    "## Structure of files"
   ]
  },
  {
   "cell_type": "markdown",
   "metadata": {},
   "source": [
    "1) \"matlab_model.py\" contains the python commands to run the model, which is a MATLAB file in this example    \n",
    "2) \"inpt.inp\" is a template input file which is used to create input files for each of the simulations with sampled values for the probabilistic variables. This is a text file with placeholders for where the probabilistic variables must be inserted.    \n",
    "3) \"process_matlab_output.py\" is a python script which processes the output. Within this script, if a function is used to process the output, this function should return the output quantity of interest. If a class is used to process the output, the quantity of interest must be saved as self.qoi within the class"
   ]
  },
  {
   "cell_type": "code",
   "execution_count": null,
   "metadata": {},
   "outputs": [],
   "source": [
    "from UQpy.SampleMethods import STS\n",
    "from UQpy.RunModel2 import RunModel2\n",
    "import os\n",
    "import time\n",
    "\n",
    "# Add MATLAB to $PATH - modify and use the command in teh next line if necessary\n",
    "# os.system(\"export PATH=$PATH:'/Applications/MATLAB_R2018a.app/bin'\")"
   ]
  },
  {
   "cell_type": "markdown",
   "metadata": {},
   "source": [
    "## Sample generation"
   ]
  },
  {
   "cell_type": "code",
   "execution_count": null,
   "metadata": {},
   "outputs": [],
   "source": [
    "#######################################################################################################################\n",
    "# Inputs to Stratified Sampling\n",
    "sts_criterion = \"centered\"  # Samples are the center of the strata\n",
    "# sts_criterion = \"random\"  # Samples are randomly drawn from within the strata\n",
    "dist_name = \"Uniform\"  # Strata are uniformly distributed (i.e., of equal size) in a dimension. Can differ between\n",
    "# dimensions\n",
    "\n",
    "vmin1 = 0\n",
    "vmax1 = 1\n",
    "vmin2 = 0\n",
    "vmax2 = 1\n",
    "vmin3 = 0\n",
    "vmax3 = 1\n",
    "\n",
    "ns1 = 3\n",
    "ns2 = 1\n",
    "ns3 = 1\n",
    "\n",
    "dist_params = [[vmin1, vmax1], [vmin2, vmax2], [vmin3, vmax3]]\n",
    "dimension = len(dist_params)\n",
    "\n",
    "sts_design = [ns1, ns2, ns3]\n",
    "\n",
    "#######################################################################################################################\n",
    "# Call STS to generate samples\n",
    "x_sts = STS(dimension=dimension, dist_name=dist_name, dist_params=dist_params, sts_design=sts_design,\n",
    "            sts_criterion=sts_criterion)  # This creates the sample points.\n",
    "\n",
    "# print(x_sts.samples)"
   ]
  },
  {
   "cell_type": "code",
   "execution_count": null,
   "metadata": {},
   "outputs": [],
   "source": [
    "## "
   ]
  },
  {
   "cell_type": "code",
   "execution_count": null,
   "metadata": {},
   "outputs": [],
   "source": [
    "#######################################################################################################################\n",
    "# Inputs to RunModel2\n",
    "var_names = ['var1', 'var2', 'var3']\n",
    "\n",
    "#######################################################################################################################\n",
    "# Call to RunModel2\n",
    "t = time.time()\n",
    "m = RunModel2(samples=x_sts.samples, ntasks=1, model_script='matlab_model.py', input_template='inpt.inp',\n",
    "              var_names=var_names, model_object_name=\"matlab\", output_script='process_matlab_output.py',\n",
    "              output_object_name='read_output', resume=False)\n",
    "t_ser_matlab = time.time() - t\n",
    "print(\"\\nTime for serial execution:\")\n",
    "print(t_ser_matlab)"
   ]
  },
  {
   "cell_type": "code",
   "execution_count": null,
   "metadata": {},
   "outputs": [],
   "source": []
  }
 ],
 "metadata": {
  "kernelspec": {
   "display_name": "Python 3",
   "language": "python",
   "name": "python3"
  },
  "language_info": {
   "codemirror_mode": {
    "name": "ipython",
    "version": 3
   },
   "file_extension": ".py",
   "mimetype": "text/x-python",
   "name": "python",
   "nbconvert_exporter": "python",
   "pygments_lexer": "ipython3",
   "version": "3.6.5"
  }
 },
 "nbformat": 4,
 "nbformat_minor": 2
}
