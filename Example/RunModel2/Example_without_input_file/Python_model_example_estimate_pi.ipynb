{
 "cells": [
  {
   "cell_type": "markdown",
   "metadata": {},
   "source": [
    "## Description"
   ]
  },
  {
   "cell_type": "markdown",
   "metadata": {},
   "source": [
    "This example file propagates uncertainty through a model, using UQpy's RunModel module."
   ]
  },
  {
   "cell_type": "markdown",
   "metadata": {},
   "source": [
    "## Required files"
   ]
  },
  {
   "cell_type": "markdown",
   "metadata": {},
   "source": [
    "To run this example, the following files must be present in the same directory as this Jupyter script:\n",
    "\n",
    "1) python_model_function.py     \n",
    "2) python_model.py"
   ]
  },
  {
   "cell_type": "code",
   "execution_count": null,
   "metadata": {},
   "outputs": [],
   "source": [
    "from UQpy.SampleMethods import STS\n",
    "from UQpy.RunModel2 import RunModel2\n",
    "\n",
    "#######################################################################################################################\n",
    "# Inputs to STS\n",
    "sts_criterion = \"centered\"  # Samples are the center of the strata\n",
    "# sts_criterion = \"random\"  # Samples are randomly drawn from within the strata\n",
    "dist_name = \"Uniform\"  # Strata are uniformly distributed (i.e., of equal size) in a dimension. Can differ between\n",
    "# dimensions\n",
    "\n",
    "vmin1 = 0\n",
    "vmax1 = 1\n",
    "vmin2 = 0\n",
    "vmax2 = 1\n",
    "\n",
    "ns1 = 200\n",
    "ns2 = 200\n",
    "\n",
    "dist_params = [[vmin1, vmax1], [vmin2, vmax2]]\n",
    "dimension = len(dist_params)\n",
    "\n",
    "sts_design = [ns1, ns2]\n",
    "\n",
    "var_names = ['var1', 'var2']\n",
    "\n",
    "#######################################################################################################################\n",
    "# Call STS to generate samples\n",
    "x_sts = STS(dimension=dimension, dist_name=dist_name, dist_params=dist_params, sts_design=sts_design,\n",
    "            sts_criterion=sts_criterion)  # This creates the sample points."
   ]
  },
  {
   "cell_type": "code",
   "execution_count": 2,
   "metadata": {},
   "outputs": [
    {
     "name": "stdout",
     "output_type": "stream",
     "text": [
      "UQpy: Successful execution of STS design..\n",
      "The model function that will be run: model\n",
      "\n",
      "Performing serial execution of the model without template input.\n",
      "\n",
      "Pi estimate: 3.141900\n"
     ]
    }
   ],
   "source": [
    "#######################################################################################################################\n",
    "# # Call to RunModel2 - class example\n",
    "# m = RunModel2(samples=x_sts.samples, ntasks=1, model_script='python_model.py', input_template=None,\n",
    "#               var_names=var_names, model_object_name=\"CalculatePi\", output_script=None)\n",
    "\n",
    "# # Call to RunModel2 - function example\n",
    "m = RunModel2(samples=x_sts.samples, ntasks=1, model_script='python_model_function.py', input_template=None,\n",
    "              var_names=var_names, model_object_name=\"model\", output_script=None)\n",
    "\n",
    "pi_estimate = 4*(sum(m.qoi_list))/len(m.qoi_list)\n",
    "print(\"Pi estimate: %f\" % pi_estimate)"
   ]
  },
  {
   "cell_type": "code",
   "execution_count": null,
   "metadata": {},
   "outputs": [],
   "source": []
  }
 ],
 "metadata": {
  "kernelspec": {
   "display_name": "Python 3",
   "language": "python",
   "name": "python3"
  },
  "language_info": {
   "codemirror_mode": {
    "name": "ipython",
    "version": 3
   },
   "file_extension": ".py",
   "mimetype": "text/x-python",
   "name": "python",
   "nbconvert_exporter": "python",
   "pygments_lexer": "ipython3",
   "version": "3.6.5"
  }
 },
 "nbformat": 4,
 "nbformat_minor": 2
}
