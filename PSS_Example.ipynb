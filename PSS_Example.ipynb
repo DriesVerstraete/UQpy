{
 "cells": [
  {
   "cell_type": "markdown",
   "metadata": {},
   "source": [
    "# Partially Stratified Sampling (PSS) Example \n",
    "Author: Jiaxin Zhang \n",
    "\n",
    "Date: June 3, 2018"
   ]
  },
  {
   "cell_type": "markdown",
   "metadata": {},
   "source": [
    "In this example, partially stratified sampling (PSS) will show how to draw random samples given pss design and pss stratum. This class generates a partially stratified sample set on U(0,1) as described in:\n",
    "Shields, M.D. and Zhang, J. \"The generalization of Latin hypercube sampling\" Reliability Engineering and System Safety. 148: 96-108"
   ]
  },
  {
   "cell_type": "code",
   "execution_count": 4,
   "metadata": {
    "collapsed": true
   },
   "outputs": [],
   "source": [
    "from UQpy.SampleMethods import PSS\n",
    "import numpy as np\n",
    "import matplotlib.pyplot as plt"
   ]
  },
  {
   "cell_type": "markdown",
   "metadata": {},
   "source": [
    "There is an example: 5D problem with 2x2D + 1x1D subdomains using pss_design = [2,2,1] with 625 samples using\n",
    "pss_pss_stratum = [25,25,625].\n",
    "\n",
    "Note: the sum of the values in the pss_design vector equals the dimension of the problem. pss_pss_stratum(i)^pss_design(i) = number of samples (for all i)\n",
    "\n",
    "pss_design: Vector defining the subdomains to be used.\n",
    "pss_strata: Vector defining how each dimension should be stratified."
   ]
  },
  {
   "cell_type": "code",
   "execution_count": null,
   "metadata": {
    "collapsed": true
   },
   "outputs": [],
   "source": [
    "pss_samples = PSS(dimension=5, pdf_type ='Uniform',pdf_params=[0,1],pss_design=[2,2,1],pss_strata = [25,25,625])"
   ]
  },
  {
   "cell_type": "markdown",
   "metadata": {},
   "source": [
    "The pdf_type is referred to as the probability density function of subdomain, here we use the uniform distribution. The list is the available distribution models: \n",
    "['Uniform', 'Normal', 'Lognormal', 'Weibull', 'Beta', 'Exponential', 'Gamma']\n",
    "\n",
    "pdf_parames means the model parameters given a specific distribution. In this example, we use U(0,1) as the distribution model for each subdomain. "
   ]
  },
  {
   "cell_type": "code",
   "execution_count": null,
   "metadata": {
    "collapsed": true
   },
   "outputs": [],
   "source": [
    "plt.plot(pss_samples[:,0],pss_samples[:,1],'o')\n",
    "plt.legend(['PSS sampling with subdomain 1-2'])\n",
    "plt.show()\n",
    "\n",
    "plt.plot(pss_samples[:,2],pss_samples[:,3],'x')\n",
    "plt.legend(['PSS sampling with subdomain 3-4'])\n",
    "plt.show()"
   ]
  },
  {
   "cell_type": "markdown",
   "metadata": {},
   "source": [
    "Plot the pss samples with 1-2 subdomian and 3-4 subdomain. "
   ]
  },
  {
   "cell_type": "code",
   "execution_count": null,
   "metadata": {
    "collapsed": true
   },
   "outputs": [],
   "source": [
    "pss_samples_2 = PSS(dimension=6, pdf_type ='Normal',pdf_params=[3,1],pss_design=[1,2,2,1],pss_strata = [100,10,10,100])"
   ]
  },
  {
   "cell_type": "markdown",
   "metadata": {},
   "source": [
    "This is another example with 6 diemnsion and each subdomain is normal distribution N(3,1). The total pss samples are 100. The results are shown as following figures. "
   ]
  },
  {
   "cell_type": "code",
   "execution_count": null,
   "metadata": {
    "collapsed": true
   },
   "outputs": [],
   "source": [
    "plt.plot(pss_samples_2[:,0],pss_samples_2[:,1],'o')\n",
    "plt.legend(['PSS sampling with subdomain 1-2'])\n",
    "plt.show()\n",
    "\n",
    "plt.plot(pss_samples[:,2],pss_samples[:,3],'x')\n",
    "plt.legend(['PSS sampling with subdomain 3-4'])\n",
    "plt.show()"
   ]
  },
  {
   "cell_type": "markdown",
   "metadata": {},
   "source": [
    "Plot the pss samples with 1-2 subdomian and 3-4 subdomain."
   ]
  }
 ],
 "metadata": {
  "kernelspec": {
   "display_name": "Python 3",
   "language": "python",
   "name": "python3"
  },
  "language_info": {
   "codemirror_mode": {
    "name": "ipython",
    "version": 3
   },
   "file_extension": ".py",
   "mimetype": "text/x-python",
   "name": "python",
   "nbconvert_exporter": "python",
   "pygments_lexer": "ipython3",
   "version": "3.6.3"
  }
 },
 "nbformat": 4,
 "nbformat_minor": 2
}
