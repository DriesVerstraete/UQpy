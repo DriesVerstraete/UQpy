{
 "cells": [
  {
   "cell_type": "markdown",
   "metadata": {},
   "source": [
    "# Propagation of imprecise probabilities resulting from small data\n",
    "\n",
    "Author: Dimitris G. Giovanis,\n",
    "Date: July 16, 2018\n",
    "\n",
    "Based on the work:\n",
    "\n",
    "[1] J. Zhang, M. D. Shields, On the quantification and propagation of imprecise probabilities\n",
    "resulting from small datasets, Mechanical Systems and Signal Processing, 98, (2018), 465-483."
   ]
  },
  {
   "cell_type": "markdown",
   "metadata": {},
   "source": [
    "This example runs the recently developed Bayesian and information theoretic method to quantify uncertainties in both model form and model parameters associated with small datasets. This approach uses probabilistic families of distributions that can be easily propagated through a computational model using MCMC simulations with importance\n",
    "sampling reweighting."
   ]
  },
  {
   "cell_type": "code",
   "execution_count": 1,
   "metadata": {},
   "outputs": [
    {
     "ename": "ImportError",
     "evalue": "cannot import name 'BayesIS'",
     "output_type": "error",
     "traceback": [
      "\u001b[0;31m---------------------------------------------------------------------------\u001b[0m",
      "\u001b[0;31mImportError\u001b[0m                               Traceback (most recent call last)",
      "\u001b[0;32m<ipython-input-1-dcc18f012846>\u001b[0m in \u001b[0;36m<module>\u001b[0;34m()\u001b[0m\n\u001b[0;32m----> 1\u001b[0;31m \u001b[0;32mfrom\u001b[0m \u001b[0mUQpy\u001b[0m\u001b[0;34m.\u001b[0m\u001b[0mInference\u001b[0m \u001b[0;32mimport\u001b[0m \u001b[0mBayesIS\u001b[0m\u001b[0;34m\u001b[0m\u001b[0m\n\u001b[0m\u001b[1;32m      2\u001b[0m \u001b[0;32mimport\u001b[0m \u001b[0mnumpy\u001b[0m \u001b[0;32mas\u001b[0m \u001b[0mnp\u001b[0m\u001b[0;34m\u001b[0m\u001b[0m\n\u001b[1;32m      3\u001b[0m \u001b[0;32mimport\u001b[0m \u001b[0mmatplotlib\u001b[0m\u001b[0;34m.\u001b[0m\u001b[0mpyplot\u001b[0m \u001b[0;32mas\u001b[0m \u001b[0mplt\u001b[0m\u001b[0;34m\u001b[0m\u001b[0m\n\u001b[1;32m      4\u001b[0m \u001b[0;32mimport\u001b[0m \u001b[0mscipy\u001b[0m\u001b[0;34m.\u001b[0m\u001b[0mstats\u001b[0m \u001b[0;32mas\u001b[0m \u001b[0msts\u001b[0m\u001b[0;34m\u001b[0m\u001b[0m\n",
      "\u001b[0;31mImportError\u001b[0m: cannot import name 'BayesIS'"
     ]
    }
   ],
   "source": [
    "from UQpy.Inference import BayesIS\n",
    "import numpy as np\n",
    "import matplotlib.pyplot as plt\n",
    "import scipy.stats as sts"
   ]
  },
  {
   "cell_type": "markdown",
   "metadata": {},
   "source": [
    "Assuming that we have a very smal dataset:"
   ]
  },
  {
   "cell_type": "code",
   "execution_count": null,
   "metadata": {},
   "outputs": [],
   "source": [
    "data = np.array([0.25023453,  2.3426804,   3.1530358,   1.74756396,  2.98132079,  2.51421884,\n",
    "                 2.22117967,  0.92995667,  1.81050417,  2.25500144])"
   ]
  },
  {
   "cell_type": "markdown",
   "metadata": {},
   "source": [
    "Show the histogram of initial small data"
   ]
  },
  {
   "cell_type": "code",
   "execution_count": null,
   "metadata": {},
   "outputs": [],
   "source": [
    "plt.figure()\n",
    "plt.hist(data)\n",
    "plt.xlabel('data')\n",
    "plt.ylabel('frequency')\n",
    "plt.show()"
   ]
  },
  {
   "cell_type": "markdown",
   "metadata": {},
   "source": [
    "Run the Bayesian Importance Sampling method. You need to provide: 1) a list with names of candiate probability models, 2) Parameters to run MCMC method (look the example MCMC), 3) the max_delta parameter which defines the threshold for selecting the most suitable models among the candidate models"
   ]
  },
  {
   "cell_type": "code",
   "execution_count": null,
   "metadata": {},
   "outputs": [],
   "source": [
    "candidate_models = ['normal', 'lognormal']\n",
    "\n",
    "x = BayesIS(data=data, candidate_model=candidate_models,\n",
    "            pdf_proposal_type='Uniform', pdf_proposal_scale=[1], nsamples_mcmc=10000, algorithm='Stretch', jump=100,\n",
    "            walkers=50, model_type='python', max_delta=8, nsamples_mixt=1000)"
   ]
  },
  {
   "cell_type": "code",
   "execution_count": null,
   "metadata": {},
   "outputs": [],
   "source": [
    "# print and plot the samples\n",
    "plt.figure()\n",
    "plt.hist(x.samples_mixture, bins=50)\n",
    "plt.grid(True)\n",
    "plt.xlabel('data')\n",
    "plt.ylabel('frequency')\n",
    "plt.show()"
   ]
  },
  {
   "cell_type": "code",
   "execution_count": null,
   "metadata": {},
   "outputs": [],
   "source": [
    "# print and plot the optimal sampling density\n",
    "plt.figure()\n",
    "plt.plot(x.samples_mixture, x.optimal_pdf, '.')\n",
    "plt.grid(True)\n",
    "plt.xlabel('x')\n",
    "plt.ylabel('PDF')\n",
    "plt.show()\n"
   ]
  },
  {
   "cell_type": "markdown",
   "metadata": {},
   "source": [
    "Propagate the uncertainty for a plate buckling strength problem (close-form) as presented in [1]:\n",
    "\n",
    "$b_1 = 35.712$,\n",
    "$b_2 = 0.7875$,\n",
    "$b_3 = 34 + x$,\n",
    "$b_4 = 28637.5$,\n",
    "$b_5 = 0.35$,\n",
    "$b_6 = 5.25$,\n",
    "\n",
    "\n",
    "$ F(x) = \\bigg(2.1\\sqrt{\\frac{b_1^2 \\cdot b_3}{b_2^2\\cdot b_4}} -\\frac{0.9b_2^2 \\cdot b_4^2 }{b_1^2\\cdot b_3}\\bigg)\\times\\bigg(1-\\frac{0.75\\cdot b_5}{\\sqrt{\\frac{b_1^2 \\cdot b_3}{b_2^2\\cdot b_4}}}\\times(1-2\\times b_6\\cdot \\frac{b_2}{b_1})\\bigg) $\n"
   ]
  },
  {
   "cell_type": "code",
   "execution_count": null,
   "metadata": {},
   "outputs": [],
   "source": [
    "from UQpy.RunModel import RunModel\n",
    "\n",
    "gfun = RunModel(cpu=1, model_type='python', model_script='pfn_inference.py', dimension=1,\n",
    "                samples=x.samples_mixture)"
   ]
  },
  {
   "cell_type": "code",
   "execution_count": null,
   "metadata": {},
   "outputs": [],
   "source": [
    "# sort the objective function for plotting\n",
    "index = np.argsort(gfun.model_eval.QOI)\n",
    "sort_f = np.sort(gfun.model_eval.QOI)\n",
    "plt.figure()\n",
    "# Reweight the samples according to the importance weights\n",
    "for i in range(x.is_weights.shape[0]):\n",
    "    ss = np.sum(x.is_weights[:, i])\n",
    "    ww = x.is_weights[:, i]/ss\n",
    "    xw = ww[index]\n",
    "    yw = np.cumsum(xw)\n",
    "    plt.plot(sort_f, yw) # plot the empirical CDFs in the for loop\n",
    "\n",
    "plt.grid(True)\n",
    "plt.xlabel('x')\n",
    "plt.ylabel('CDF')\n",
    "plt.show()\n",
    "\n"
   ]
  },
  {
   "cell_type": "code",
   "execution_count": null,
   "metadata": {},
   "outputs": [],
   "source": []
  }
 ],
 "metadata": {
  "kernelspec": {
   "display_name": "Python 3",
   "language": "python",
   "name": "python3"
  },
  "language_info": {
   "codemirror_mode": {
    "name": "ipython",
    "version": 3
   },
   "file_extension": ".py",
   "mimetype": "text/x-python",
   "name": "python",
   "nbconvert_exporter": "python",
   "pygments_lexer": "ipython3",
   "version": "3.6.5"
  }
 },
 "nbformat": 4,
 "nbformat_minor": 2
}
