{
 "cells": [
  {
   "cell_type": "markdown",
   "metadata": {},
   "source": [
    "# First-Order/Second-Order Reliability Method (FORM-SORM)\n",
    "\n",
    "Author: Dimitris G. Giovanis,\n",
    "Date: June 27, 2018"
   ]
  },
  {
   "cell_type": "markdown",
   "metadata": {},
   "source": [
    "This example runs FORM/SORM to estimate the probability of failure of a system with linear performance function and 2-dimensional standard unit normal random variables, $U_i$ given by:\n",
    "\n",
    "$ g(U) = \\beta\\sqrt{n} -\\sum_{j=1}^2U_i$\n",
    "\n",
    "$\\beta=3$ corresponding to a true probability of failure $p_f=\\Phi(-3)=0.0013$.\n",
    "\n",
    "(It is the same example used in Subset Simulation_Example1)"
   ]
  },
  {
   "cell_type": "code",
   "execution_count": 1,
   "metadata": {
    "collapsed": true
   },
   "outputs": [],
   "source": [
    "import numpy as np\n",
    "from UQpy.Reliability import TaylorSeries"
   ]
  },
  {
   "cell_type": "code",
   "execution_count": 2,
   "metadata": {},
   "outputs": [
    {
     "name": "stdout",
     "output_type": "stream",
     "text": [
      "Running FORM...\n",
      "\n",
      "Evaluating the model...\n",
      "\n",
      "\n",
      "Evaluating the model...\n",
      "\n",
      "\n",
      "Evaluating the model...\n",
      "\n",
      "\n",
      "Evaluating the model...\n",
      "\n"
     ]
    }
   ],
   "source": [
    "Z = TaylorSeries(method='FORM', dimension=2, dist_name=['Normal', 'Normal'], dist_params=[[0.0, 1.0], [0.0, 1.0]],\n",
    "                 init_design_point=[1, 1], model_type='python', model_script='pfn.py', deriv_script='dpfn.py', algorithm='HL')"
   ]
  },
  {
   "cell_type": "code",
   "execution_count": 3,
   "metadata": {},
   "outputs": [
    {
     "name": "stdout",
     "output_type": "stream",
     "text": [
      " FORM: 1  iterations\n",
      " FORM: 3.0  beta index\n",
      " FORM: 0.00134989803163  probability of failure\n",
      " FORM: [ 2.12132034  2.12132034]  design point in the standard normal space\n",
      " FORM: [ 2.12132034  2.12132034]  design point in the original space\n"
     ]
    }
   ],
   "source": [
    "# print results\n",
    "\n",
    "print(' FORM:', Z.iterations, ' iterations')\n",
    "print(' FORM:', Z.beta, ' beta index')\n",
    "print(' FORM:', Z.Pf, ' probability of failure')\n",
    "print(' FORM:', Z.u_star, ' design point in the standard normal space')\n",
    "print(' FORM:', Z.x_star, ' design point in the original space')"
   ]
  },
  {
   "cell_type": "code",
   "execution_count": 4,
   "metadata": {},
   "outputs": [
    {
     "name": "stdout",
     "output_type": "stream",
     "text": [
      "Running SORM...\n",
      "\n",
      "Evaluating the model...\n",
      "\n",
      "\n",
      "Evaluating the model...\n",
      "\n",
      "\n",
      "Evaluating the model...\n",
      "\n",
      "\n",
      "Evaluating the model...\n",
      "\n",
      " SORM: 1  iterations\n",
      " SORM: 3.0  beta index\n",
      " SORM: 0.00134989803163  probability of failure\n",
      " SORM: [ 2.12132034  2.12132034]  design point in the standard normal space\n",
      " SORM: [ 2.12132034  2.12132034]  design point in the original space\n"
     ]
    }
   ],
   "source": [
    "# Run SORM\n",
    "Z0 = TaylorSeries(method='SORM', dimension=2, dist_name=['Normal', 'Normal'], dist_params=[[0.0, 1.0], [0.0, 1.0]],\n",
    "                 init_design_point=[1, 1], model_type='python', model_script='pfn.py', deriv_script='dpfn.py', algorithm='HL')\n",
    "\n",
    "# print results\n",
    "\n",
    "print(' SORM:', Z0.iterations, ' iterations')\n",
    "print(' SORM:', Z0.beta, ' beta index')\n",
    "print(' SORM:', Z0.Pf, ' probability of failure')\n",
    "print(' SORM:', Z0.u_star, ' design point in the standard normal space')\n",
    "print(' SORM:', Z0.x_star, ' design point in the original space')"
   ]
  },
  {
   "cell_type": "code",
   "execution_count": null,
   "metadata": {
    "collapsed": true
   },
   "outputs": [],
   "source": []
  }
 ],
 "metadata": {
  "kernelspec": {
   "display_name": "Python 3",
   "language": "python",
   "name": "python3"
  },
  "language_info": {
   "codemirror_mode": {
    "name": "ipython",
    "version": 3
   },
   "file_extension": ".py",
   "mimetype": "text/x-python",
   "name": "python",
   "nbconvert_exporter": "python",
   "pygments_lexer": "ipython3",
   "version": "3.6.2"
  }
 },
 "nbformat": 4,
 "nbformat_minor": 2
}
