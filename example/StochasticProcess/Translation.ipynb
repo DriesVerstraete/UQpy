{
 "cells": [
  {
   "cell_type": "markdown",
   "metadata": {},
   "source": [
    "# Translatation of a Stochastic Process\n",
    "Author: Lohit Vandanapu\n",
    "Date: August 20, 2018"
   ]
  },
  {
   "cell_type": "markdown",
   "metadata": {},
   "source": [
    "In this example, a Gaussian stochastic processes is translated into a stocahstic processes of a number of distributions. This example illustrates how to use the Translate class to translate from Gaussian to other probability distributions and compare how the statistics of the translated stochastic processes change along with distributions."
   ]
  },
  {
   "cell_type": "markdown",
   "metadata": {},
   "source": [
    "Import the necessary libraries. Here we import standard libraries such as numpy and matplotlib, but also need to import the Translate class from the StochasticProcesses module of UQpy."
   ]
  },
  {
   "cell_type": "code",
   "execution_count": 1,
   "metadata": {},
   "outputs": [],
   "source": [
    "from UQpy.StochasticProcess import Translation\n",
    "from UQpy.StochasticProcess import SRM\n",
    "import numpy as np\n",
    "import matplotlib.pyplot as plt\n",
    "plt.style.use('seaborn')"
   ]
  },
  {
   "cell_type": "markdown",
   "metadata": {},
   "source": [
    "Firstly we generate Gaussian Stochastic Processes using the Spectral Representation Method."
   ]
  },
  {
   "cell_type": "code",
   "execution_count": 2,
   "metadata": {},
   "outputs": [],
   "source": [
    "n_sim = 10000  # Num of samples\n",
    "T = 100  # Time(1 / T = dw)\n",
    "nt = 256  # Num.of Discretized Time\n",
    "F = 1 / T * nt / 2  # Frequency.(Hz)\n",
    "nw = 128  # Num of Discretized Freq.\n",
    "dt = T / nt\n",
    "t = np.linspace(0, T - dt, nt)\n",
    "dw = F / nw\n",
    "w = np.linspace(0, F - dw, nw)\n",
    "S = 125 / 4 * w ** 2 * np.exp(-5 * w)\n",
    "SRM_object = SRM(n_sim, S, dw, nt, nw, case='uni')\n",
    "samples = SRM_object.samples"
   ]
  },
  {
   "cell_type": "code",
   "execution_count": 3,
   "metadata": {},
   "outputs": [],
   "source": [
    "def S_to_R(S, w, t):\n",
    "    dw = w[1] - w[0]\n",
    "    fac = np.ones(len(w))\n",
    "    fac[1: len(w) - 1: 2] = 4\n",
    "    fac[2: len(w) - 2: 2] = 2\n",
    "    fac = fac * dw / 3\n",
    "    R = np.zeros(len(t))\n",
    "    for i in range(len(t)):\n",
    "        R[i] = 2 * np.dot(fac, S * np.cos(w * t[i]))\n",
    "    return R"
   ]
  },
  {
   "cell_type": "code",
   "execution_count": 4,
   "metadata": {},
   "outputs": [],
   "source": [
    "r_g = S_to_R(S, w, t)"
   ]
  },
  {
   "cell_type": "markdown",
   "metadata": {},
   "source": [
    "We translate the samples to be Uniform samples from 1 to 2"
   ]
  },
  {
   "cell_type": "code",
   "execution_count": 5,
   "metadata": {
    "scrolled": true
   },
   "outputs": [],
   "source": [
    "Translate_object = Translation(samples, r_g, 'Uniform', [0, 1])\n",
    "samples_ng = Translate_object.samples_ng\n",
    "r_ng = Translate_object.R_ng"
   ]
  },
  {
   "cell_type": "markdown",
   "metadata": {},
   "source": [
    "Plotting the actual and translated autocorrelation functions"
   ]
  },
  {
   "cell_type": "code",
   "execution_count": 6,
   "metadata": {},
   "outputs": [
    {
     "data": {
      "image/png": "[encoded data removed]",
      "text/plain": [
       "<Figure size 432x288 with 1 Axes>"
      ]
     },
     "metadata": {
      "needs_background": "light"
     },
     "output_type": "display_data"
    }
   ],
   "source": [
    "fig1 = plt.figure()\n",
    "plt.plot(r_g, label='Gaussian')\n",
    "plt.plot(r_ng, label='Uniform')\n",
    "plt.title('Autocorrelation Functions')\n",
    "plt.legend()\n",
    "plt.show()"
   ]
  },
  {
   "cell_type": "code",
   "execution_count": null,
   "metadata": {},
   "outputs": [],
   "source": []
  }
 ],
 "metadata": {
  "kernelspec": {
   "display_name": "Python 3",
   "language": "python",
   "name": "python3"
  },
  "language_info": {
   "codemirror_mode": {
    "name": "ipython",
    "version": 3
   },
   "file_extension": ".py",
   "mimetype": "text/x-python",
   "name": "python",
   "nbconvert_exporter": "python",
   "pygments_lexer": "ipython3",
   "version": "3.7.2"
  }
 },
 "nbformat": 4,
 "nbformat_minor": 2
}
