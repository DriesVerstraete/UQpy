{
 "cells": [
  {
   "cell_type": "markdown",
   "metadata": {},
   "source": [
    "# Stochastic Reduce Order Model Example 1\n",
    "Author: Mohit S. Chauhan\n",
    "Date: June 4, 2018"
   ]
  },
  {
   "cell_type": "markdown",
   "metadata": {},
   "source": [
    "In this example, Stratified sampling is used to generate samples from Gamma distribution and weight are defined using Stochastic reduce order model. "
   ]
  },
  {
   "cell_type": "markdown",
   "metadata": {},
   "source": [
    "Import the necessary libraries. Here we import standard libraries such as numpy and matplotlib, but also need to import the STS and SROM class from UQpy."
   ]
  },
  {
   "cell_type": "code",
   "execution_count": 1,
   "metadata": {},
   "outputs": [],
   "source": [
    "from UQpy.Surrogates import SROM\n",
    "from UQpy.SampleMethods import STS\n",
    "import scipy.stats as stats\n",
    "import matplotlib.pyplot as plt\n",
    "import numpy as np"
   ]
  },
  {
   "cell_type": "markdown",
   "metadata": {},
   "source": [
    "Using UQpy STS class to generate samples for two random variables having Gamma distribution with shape, shift and scale parameters as 2, 1 and 3."
   ]
  },
  {
   "cell_type": "code",
   "execution_count": 2,
   "metadata": {},
   "outputs": [
    {
     "name": "stdout",
     "output_type": "stream",
     "text": [
      "UQpy: Successful execution of STS design..\n"
     ]
    }
   ],
   "source": [
    "x = STS(dimension=2, dist_name=['Gamma', 'Gamma'], dist_params=[[2, 1, 3], [2, 1, 3]], \n",
    "        sts_design=[4, 4])"
   ]
  },
  {
   "cell_type": "markdown",
   "metadata": {},
   "source": [
    "Define the Gamma probability density function up to a scale factor. Here the pdf is defined directly in the python script."
   ]
  },
  {
   "cell_type": "code",
   "execution_count": 3,
   "metadata": {},
   "outputs": [],
   "source": [
    "def Gamma(z,params):\n",
    "     return stats.gamma.cdf(z, params[0], loc=params[1], scale=params[2])"
   ]
  },
  {
   "cell_type": "markdown",
   "metadata": {},
   "source": [
    "Run SROM using the defined Gamma distribution. Here we use the following parameters.\n",
    "    - Gamma distribution with shape, shift and scale parameters as 2, 1 and 3.\n",
    "    - First and second order moments about origin are 6 and 54.\n",
    "    - Notice that pdf_target references the Gamma function directly and does not designate it as a string.\n",
    "    - Samples are uncorrelated, i.e. also default value of correlation. "
   ]
  },
  {
   "cell_type": "code",
   "execution_count": 4,
   "metadata": {},
   "outputs": [
    {
     "name": "stdout",
     "output_type": "stream",
     "text": [
      "UQpy: Performing SROM...\n",
      "Done!\n"
     ]
    }
   ],
   "source": [
    "y = SROM(samples=x.samples, cdf_target=['Gamma', Gamma], moments=[np.array([6., 6.]), np.array([54., 54.])], \n",
    "         properties=[True, True, True, False], cdf_target_params=[np.array([2, 1, 3]),np.array([2, 1, 3])])"
   ]
  },
  {
   "cell_type": "markdown",
   "metadata": {},
   "source": [
    "Plot the sample sets and weights from SROM class. Also, compared with the CDF of gamma distrbution."
   ]
  },
  {
   "cell_type": "code",
   "execution_count": 5,
   "metadata": {},
   "outputs": [
    {
     "data": {
      "image/png": "[encoded data removed]",
      "text/plain": [
       "<Figure size 432x288 with 1 Axes>"
      ]
     },
     "metadata": {},
     "output_type": "display_data"
    },
    {
     "data": {
      "image/png": "[encoded data removed]",
      "text/plain": [
       "<Figure size 432x288 with 1 Axes>"
      ]
     },
     "metadata": {},
     "output_type": "display_data"
    }
   ],
   "source": [
    "c = np.concatenate((y.samples, y.sample_weights.reshape(y.sample_weights.shape[0], 1)), axis=1)\n",
    "d = c[c[:, 0].argsort()]\n",
    "plt.plot(d[:, 0], np.cumsum(d[:, 2], axis=0), 'o')\n",
    "plt.plot(np.arange(1,15,0.1), stats.gamma.cdf(np.arange(1,15,0.1), 2, loc=1, scale=3))\n",
    "plt.legend(['RV1_SROM','CDF'])\n",
    "plt.show()\n",
    "e = c[c[:, 1].argsort()]\n",
    "plt.plot(e[:, 1], np.cumsum(e[:, 2], axis=0), 'o')\n",
    "plt.plot(np.arange(1,15,0.1), stats.gamma.cdf(np.arange(1,15,0.1), 2, loc=1, scale=3))\n",
    "plt.legend(['RV2_SROM','CDF'])\n",
    "plt.show()"
   ]
  },
  {
   "cell_type": "markdown",
   "metadata": {
    "collapsed": true
   },
   "source": [
    "A note on the weights corresponding to error in distribution, moments and correlation of random variables:\n",
    "    - For this illustration, error_weigths are not defined and default value is [1, 0.2, 0]. These weights can be changed to obtain desired accuracy in certain properties. "
   ]
  },
  {
   "cell_type": "code",
   "execution_count": 6,
   "metadata": {},
   "outputs": [
    {
     "name": "stdout",
     "output_type": "stream",
     "text": [
      "[4.48339986e-02 4.63713996e-02 2.83064731e-02 1.31338142e-01\n",
      " 2.76347411e-02 3.04218769e-02 1.06325249e-01 6.41277742e-02\n",
      " 6.35869407e-02 1.10756638e-01 9.25147417e-02 3.76150969e-02\n",
      " 4.98339549e-02 8.31860454e-02 8.31469278e-02 4.31081697e-18]\n"
     ]
    }
   ],
   "source": [
    "print(y.sample_weights)"
   ]
  }
 ],
 "metadata": {
  "kernelspec": {
   "display_name": "Python 3",
   "language": "python",
   "name": "python3"
  },
  "language_info": {
   "codemirror_mode": {
    "name": "ipython",
    "version": 3
   },
   "file_extension": ".py",
   "mimetype": "text/x-python",
   "name": "python",
   "nbconvert_exporter": "python",
   "pygments_lexer": "ipython3",
   "version": "3.6.5"
  }
 },
 "nbformat": 4,
 "nbformat_minor": 2
}
