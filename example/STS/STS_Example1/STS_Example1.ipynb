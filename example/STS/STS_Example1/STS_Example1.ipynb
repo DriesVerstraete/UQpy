{
 "cells": [
  {
   "cell_type": "markdown",
   "metadata": {},
   "source": [
    "# Stratified Sampling - Example 1\n",
    "\n",
    "- Author: Michael D. Shields\n",
    "- Date: June 04, 2018"
   ]
  },
  {
   "cell_type": "markdown",
   "metadata": {},
   "source": [
    "In this example, the stratified sampling method is employed to generate samples from an exponential distribution. The method illustrates various aspects of the UQpy.SampleMethods.STS class. "
   ]
  },
  {
   "cell_type": "markdown",
   "metadata": {},
   "source": [
    "Import the necessary libraries. Here we import standard libraries such as numpy and matplotlib, but also need to import the STS class from UQpy.SampleMethods."
   ]
  },
  {
   "cell_type": "code",
   "execution_count": 1,
   "metadata": {
    "collapsed": true
   },
   "outputs": [],
   "source": [
    "from UQpy.SampleMethods import STS\n",
    "import numpy as np\n",
    "import matplotlib.pyplot as plt\n",
    "import time\n",
    "from scipy.stats import expon"
   ]
  },
  {
   "cell_type": "markdown",
   "metadata": {},
   "source": [
    "Run STS for 25 samples.\n",
    "    - 2 dimensions\n",
    "    - Five strata in each dimension\n",
    "    - Exponential distribution with location parameter = 1 and scale parameter = 1."
   ]
  },
  {
   "cell_type": "markdown",
   "metadata": {},
   "source": [
    "Run stratified sampling"
   ]
  },
  {
   "cell_type": "code",
   "execution_count": 2,
   "metadata": {},
   "outputs": [
    {
     "name": "stdout",
     "output_type": "stream",
     "text": [
      "UQpy: Performing STS design...\n",
      "Done!\n"
     ]
    }
   ],
   "source": [
    "x_sts = STS(dimension=2, dist_name='Exponential', dist_params=[np.ones(2)], sts_design=[5, 5])"
   ]
  },
  {
   "cell_type": "markdown",
   "metadata": {},
   "source": [
    "Plot the resulting stratified exponential samples and the boundaries of the strata in the exponential space. "
   ]
  },
  {
   "cell_type": "code",
   "execution_count": 3,
   "metadata": {},
   "outputs": [
    {
     "data": {
      "image/png": "[encoded data removed]",
      "text/plain": [
       "<matplotlib.figure.Figure at 0x11189f780>"
      ]
     },
     "metadata": {},
     "output_type": "display_data"
    }
   ],
   "source": [
    "fig, ax = plt.subplots()\n",
    "plt.title('Stratified Sample - Exponential')\n",
    "plt.scatter(x_sts.samples[:, 0], x_sts.samples[:, 1])\n",
    "ax.set_yticks([1.0, expon.ppf(0.2,1,1), expon.ppf(0.4,1,1), expon.ppf(0.6,1,1), expon.ppf(0.8,1,1), expon.ppf(0.99,1,1)])\n",
    "ax.set_xticks([1.0, expon.ppf(0.2,1,1), expon.ppf(0.4,1,1), expon.ppf(0.6,1,1), expon.ppf(0.8,1,1), expon.ppf(0.99,1,1)])\n",
    "ax.yaxis.grid(True)\n",
    "ax.xaxis.grid(True)\n",
    "plt.ylim(1, expon.ppf(0.99,1,1))\n",
    "plt.xlim(1, expon.ppf(0.99,1,1))\n",
    "plt.show()"
   ]
  },
  {
   "cell_type": "markdown",
   "metadata": {},
   "source": [
    "Plot the resulting stratified samples and the boundaries of the strata in the U(0,1) space. "
   ]
  },
  {
   "cell_type": "code",
   "execution_count": 4,
   "metadata": {},
   "outputs": [
    {
     "data": {
      "image/png": "[encoded data removed]",
      "text/plain": [
       "<matplotlib.figure.Figure at 0x11189f588>"
      ]
     },
     "metadata": {},
     "output_type": "display_data"
    }
   ],
   "source": [
    "fig, ax = plt.subplots()\n",
    "plt.title('Stratified Sample - U(0,1)')\n",
    "plt.scatter(x_sts.samplesU01[:, 0], x_sts.samplesU01[:, 1])\n",
    "ax.set_yticks([0.0, 0.2, 0.4, 0.6, 0.8, 1.0])\n",
    "ax.set_xticks([0.0, 0.2, 0.4, 0.6, 0.8, 1.0])\n",
    "ax.yaxis.grid(True)\n",
    "ax.xaxis.grid(True)\n",
    "plt.ylim(0, 1)\n",
    "plt.xlim(0, 1)\n",
    "plt.show()"
   ]
  },
  {
   "cell_type": "markdown",
   "metadata": {},
   "source": [
    "Return the sample weights"
   ]
  },
  {
   "cell_type": "code",
   "execution_count": 5,
   "metadata": {},
   "outputs": [
    {
     "name": "stdout",
     "output_type": "stream",
     "text": [
      "[ 0.04  0.04  0.04  0.04  0.04  0.04  0.04  0.04  0.04  0.04  0.04  0.04\n",
      "  0.04  0.04  0.04  0.04  0.04  0.04  0.04  0.04  0.04  0.04  0.04  0.04\n",
      "  0.04]\n"
     ]
    }
   ],
   "source": [
    "print(x_sts.strata.weights)"
   ]
  },
  {
   "cell_type": "code",
   "execution_count": 6,
   "metadata": {},
   "outputs": [
    {
     "name": "stdout",
     "output_type": "stream",
     "text": [
      "[[ 1.00617969  1.03783584]\n",
      " [ 1.36939549  1.01154804]\n",
      " [ 1.71734023  1.02005553]\n",
      " [ 1.9533658   1.08316183]\n",
      " [ 3.09016466  1.0191561 ]\n",
      " [ 1.11693883  1.32680774]\n",
      " [ 1.45314419  1.32930291]\n",
      " [ 1.59990716  1.34207094]\n",
      " [ 1.98212957  1.45324504]\n",
      " [ 3.67324543  1.22315943]\n",
      " [ 1.1413517   1.54290915]\n",
      " [ 1.46923923  1.67687416]\n",
      " [ 1.63048506  1.75609052]\n",
      " [ 2.20539451  1.70640802]\n",
      " [ 2.94808388  1.53543603]\n",
      " [ 1.08085752  2.18810344]\n",
      " [ 1.43508196  1.98070407]\n",
      " [ 1.62696099  2.01960993]\n",
      " [ 2.44578099  2.167521  ]\n",
      " [ 3.04354906  2.07052326]\n",
      " [ 1.14424407  3.68252063]\n",
      " [ 1.44580054  2.82062912]\n",
      " [ 1.66494572  4.05811024]\n",
      " [ 2.24057436  2.63203192]\n",
      " [ 3.48450994  2.97275019]]\n"
     ]
    }
   ],
   "source": [
    "print(x_sts.samples)"
   ]
  },
  {
   "cell_type": "code",
   "execution_count": null,
   "metadata": {
    "collapsed": true
   },
   "outputs": [],
   "source": []
  }
 ],
 "metadata": {
  "kernelspec": {
   "display_name": "Python 3",
   "language": "python",
   "name": "python3"
  },
  "language_info": {
   "codemirror_mode": {
    "name": "ipython",
    "version": 3
   },
   "file_extension": ".py",
   "mimetype": "text/x-python",
   "name": "python",
   "nbconvert_exporter": "python",
   "pygments_lexer": "ipython3",
   "version": "3.6.2"
  }
 },
 "nbformat": 4,
 "nbformat_minor": 2
}
