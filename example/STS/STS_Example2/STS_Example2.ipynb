{
 "cells": [
  {
   "cell_type": "markdown",
   "metadata": {},
   "source": [
    "# Stratified Sampling - Example 2\n",
    "\n",
    "- Author: Michael D. Shields\n",
    "- Date: June 05, 2018"
   ]
  },
  {
   "cell_type": "markdown",
   "metadata": {},
   "source": [
    "In this example, the stratified sampling method is employed to generate samples from an exponential distribution with strata defined by a text file. The method illustrates stratified sampling for cases where the space is not divided equally in all dimensions. "
   ]
  },
  {
   "cell_type": "markdown",
   "metadata": {},
   "source": [
    "Import the necessary libraries. Here we import standard libraries such as numpy and matplotlib, but also need to import the STS class from UQpy.SampleMethods."
   ]
  },
  {
   "cell_type": "code",
   "execution_count": 20,
   "metadata": {
    "collapsed": true
   },
   "outputs": [],
   "source": [
    "from UQpy.SampleMethods import STS\n",
    "import numpy as np\n",
    "import matplotlib.pyplot as plt\n",
    "import time\n",
    "from scipy.stats import expon"
   ]
  },
  {
   "cell_type": "markdown",
   "metadata": {},
   "source": [
    "Run STS for 6 samples.\n",
    "    - 2 dimensions\n",
    "    - Strata are defined by the file 'strata.txt'\n",
    "    - The strata are unequally sized and are not equal in all dimensions."
   ]
  },
  {
   "cell_type": "markdown",
   "metadata": {},
   "source": [
    "Run stratified sampling"
   ]
  },
  {
   "cell_type": "code",
   "execution_count": 21,
   "metadata": {
    "collapsed": true
   },
   "outputs": [],
   "source": [
    "x_sts = STS(dimension=2, dist_type='Exponential', dist_params=np.ones(2), input_file='strata.txt')"
   ]
  },
  {
   "cell_type": "code",
   "execution_count": 22,
   "metadata": {},
   "outputs": [
    {
     "data": {
      "image/png": "[encoded data removed]",
      "text/plain": [
       "<matplotlib.figure.Figure at 0x116705e10>"
      ]
     },
     "metadata": {},
     "output_type": "display_data"
    }
   ],
   "source": [
    "fig, ax = plt.subplots()\n",
    "plt.title('Stratified Sample - Exponential')\n",
    "plt.scatter(x_sts.samples[:, 0], x_sts.samples[:, 1])\n",
    "plt.plot(expon.ppf([0.0, 0.5, 0.5, 0.0],1,1),expon.ppf([0.0, 0.0, 0.333, 0.333],1,1),'b')\n",
    "plt.plot(expon.ppf([0.0, 0.5, 0.5, 0.0],1,1),expon.ppf([0.333, 0.333, 0.667, 0.667],1,1),'b')\n",
    "plt.plot(expon.ppf([0.0, 0.5, 0.5, 0.0],1,1),expon.ppf([0.667, 0.667, 0.99, 1.0],1,1),'b')\n",
    "plt.plot(expon.ppf([0.5, 1.0, 0.99, 0.5],1,1),expon.ppf([0.0, 0.0, 0.5, 0.5],1,1),'b')\n",
    "plt.plot(expon.ppf([0.5, 0.75, 0.75, 0.5],1,1),expon.ppf([0.5, 0.5, 0.99, 0.99],1,1),'b')\n",
    "ax.yaxis.grid(True)\n",
    "ax.xaxis.grid(True)\n",
    "plt.ylim(1, expon.ppf(0.99,1,1))\n",
    "plt.xlim(1, expon.ppf(0.99,1,1))\n",
    "plt.show()"
   ]
  },
  {
   "cell_type": "code",
   "execution_count": 23,
   "metadata": {},
   "outputs": [
    {
     "data": {
      "image/png": "[encoded data removed]",
      "text/plain": [
       "<matplotlib.figure.Figure at 0x111719438>"
      ]
     },
     "metadata": {},
     "output_type": "display_data"
    }
   ],
   "source": [
    "fig, ax = plt.subplots()\n",
    "plt.title('Stratified Sample - U(0,1)')\n",
    "plt.scatter(x_sts.samplesU01[:, 0], x_sts.samplesU01[:, 1])\n",
    "plt.plot([0.0, 0.5, 0.5, 0.0],[0.0, 0.0, 0.333, 0.333],'b')\n",
    "plt.plot([0.0, 0.5, 0.5, 0.0],[0.333, 0.333, 0.667, 0.667],'b')\n",
    "plt.plot([0.0, 0.5, 0.5, 0.0],[0.667, 0.667, 1.0, 1.0],'b')\n",
    "plt.plot([0.5, 1.0, 1.0, 0.5],[0.0, 0.0, 0.5, 0.5],'b')\n",
    "plt.plot([0.5, 0.75, 0.75, 0.5],[0.5, 0.5, 1.0, 1.0],'b')\n",
    "ax.set_yticks([0.0, 0.2, 0.4, 0.6, 0.8, 1.0])\n",
    "ax.set_xticks([0.0, 0.2, 0.4, 0.6, 0.8, 1.0])\n",
    "ax.yaxis.grid(True)\n",
    "ax.xaxis.grid(True)\n",
    "plt.ylim(0, 1)\n",
    "plt.xlim(0, 1)\n",
    "plt.show()"
   ]
  },
  {
   "cell_type": "markdown",
   "metadata": {},
   "source": [
    "Return the sample weights"
   ]
  },
  {
   "cell_type": "code",
   "execution_count": 24,
   "metadata": {},
   "outputs": [
    {
     "name": "stdout",
     "output_type": "stream",
     "text": [
      "[ 0.166665  0.166665  0.166665  0.25      0.125     0.125   ]\n"
     ]
    }
   ],
   "source": [
    "print(x_sts.strata.weights)"
   ]
  },
  {
   "cell_type": "code",
   "execution_count": 25,
   "metadata": {},
   "outputs": [
    {
     "name": "stdout",
     "output_type": "stream",
     "text": [
      "[[ 1.43158281  1.03239501]\n",
      " [ 1.01617038  1.88049674]\n",
      " [ 1.10811591  2.45289874]\n",
      " [ 4.57394505  1.40371585]\n",
      " [ 2.29091334  1.92252123]\n",
      " [ 6.18336582  2.69495296]]\n"
     ]
    }
   ],
   "source": [
    "print(x_sts.samples)"
   ]
  },
  {
   "cell_type": "code",
   "execution_count": null,
   "metadata": {
    "collapsed": true
   },
   "outputs": [],
   "source": []
  }
 ],
 "metadata": {
  "kernelspec": {
   "display_name": "Python 3",
   "language": "python",
   "name": "python3"
  },
  "language_info": {
   "codemirror_mode": {
    "name": "ipython",
    "version": 3
   },
   "file_extension": ".py",
   "mimetype": "text/x-python",
   "name": "python",
   "nbconvert_exporter": "python",
   "pygments_lexer": "ipython3",
   "version": "3.6.2"
  }
 },
 "nbformat": 4,
 "nbformat_minor": 2
}
