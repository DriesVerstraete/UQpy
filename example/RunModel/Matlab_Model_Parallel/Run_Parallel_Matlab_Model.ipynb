{
 "cells": [
  {
   "cell_type": "markdown",
   "metadata": {},
   "source": [
    "Import the necessary packages"
   ]
  },
  {
   "cell_type": "code",
   "execution_count": 2,
   "metadata": {
    "collapsed": true
   },
   "outputs": [],
   "source": [
    "from UQpy.SampleMethods import MCMC\n",
    "from UQpy.RunModel import RunModel\n",
    "import numpy as np\n",
    "import matplotlib.pyplot as plt\n",
    "import scipy.stats as sp\n",
    "import time"
   ]
  },
  {
   "cell_type": "markdown",
   "metadata": {},
   "source": [
    "Define a Rosenbrock pdf (up to a scale factor) and draw samples from it using the component-wise Modified Metropolis Hanstings algorithm. For illustration purposes, we draw 15 samples with jump of 100,000 samples given the very long correlation length for the MMH on the Rosenbrock density. See Goodman and Weare, 2010."
   ]
  },
  {
   "cell_type": "code",
   "execution_count": 3,
   "metadata": {},
   "outputs": [
    {
     "name": "stdout",
     "output_type": "stream",
     "text": [
      "32.54334378242493\n"
     ]
    }
   ],
   "source": [
    "def Rosenbrock(x, params):\n",
    "    return np.exp(-(100*(x[1]-x[0]**2)**2+(1-x[0])**2)/params[0])\n",
    "\n",
    "t = time.time()\n",
    "x = MCMC(dimension=2, pdf_proposal_type='Normal', pdf_target_type='joint_pdf',\n",
    "         pdf_target=Rosenbrock, pdf_target_params=[20], algorithm='MMH', jump=100000, nsamples=15, seed=None)\n",
    "t_MCMC = time.time()-t\n",
    "print(t_MCMC)"
   ]
  },
  {
   "cell_type": "markdown",
   "metadata": {},
   "source": [
    "Here the sample points are passed directly into the RunModel class via samples=x.samples."
   ]
  },
  {
   "cell_type": "code",
   "execution_count": 4,
   "metadata": {},
   "outputs": [
    {
     "name": "stdout",
     "output_type": "stream",
     "text": [
      "\n",
      "Evaluating the model...\n",
      "\n",
      "74.37272787094116\n"
     ]
    }
   ],
   "source": [
    "t = time.time()\n",
    "z = RunModel(cpu=4, model_type=None, model_script='UQpy_Model.sh', input_script='UQpy_Input.sh', \n",
    "         output_script='UQpy_Output.sh', samples=x.samples, dimension=2)\n",
    "t_run = time.time()-t\n",
    "print(t_run)"
   ]
  },
  {
   "cell_type": "markdown",
   "metadata": {},
   "source": [
    "Observe how the data is stored."
   ]
  },
  {
   "cell_type": "code",
   "execution_count": 5,
   "metadata": {},
   "outputs": [
    {
     "name": "stdout",
     "output_type": "stream",
     "text": [
      "Samples [[  0.           0.        ]\n",
      " [  3.67423751  14.15069877]\n",
      " [  5.90759142  34.8274687 ]\n",
      " [ -3.51306772  11.80938987]\n",
      " [  1.66491125   2.93633931]\n",
      " [ -0.97553622   0.90945947]\n",
      " [ -2.75784556   7.74160466]\n",
      " [ -2.0424736    4.4035835 ]\n",
      " [ -0.10948066   0.57723078]\n",
      " [ -0.77173741   0.72432926]\n",
      " [  2.40833395   5.79351616]\n",
      " [  1.82884729   2.67961409]\n",
      " [  1.68179489   2.98837062]\n",
      " [ -1.60567339   2.82174704]\n",
      " [ -5.44519746  29.8356803 ]]\n",
      "Soluations [array(0.0), array(17.82494), array(40.73506), array(8.29632), array(4.60125), array(-0.06608), array(4.98375), array(2.36111), array(0.46775), array(-0.04741), array(8.20185), array(4.50846), array(4.67016), array(1.21608), array(24.39048)]\n"
     ]
    }
   ],
   "source": [
    "print('Samples',z.model_eval.samples)\n",
    "print('Soluations',z.model_eval.QOI)"
   ]
  },
  {
   "cell_type": "code",
   "execution_count": null,
   "metadata": {
    "collapsed": true
   },
   "outputs": [],
   "source": []
  }
 ],
 "metadata": {
  "kernelspec": {
   "display_name": "Python 3",
   "language": "python",
   "name": "python3"
  }
 },
 "nbformat": 4,
 "nbformat_minor": 2
}
