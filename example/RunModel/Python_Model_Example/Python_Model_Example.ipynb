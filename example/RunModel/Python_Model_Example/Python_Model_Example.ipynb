{
 "cells": [
  {
   "cell_type": "markdown",
   "metadata": {},
   "source": [
    "## Description"
   ]
  },
  {
   "cell_type": "markdown",
   "metadata": {},
   "source": [
    "This example file runs a simple Monte Carlo simulation. It uses RunModel to call a Python script that sums 3 independent standard normal random variables.\n",
    "\n",
    "Author: Michael D. Shields  \n",
    "Date: December 9, 2018"
   ]
  },
  {
   "cell_type": "markdown",
   "metadata": {},
   "source": [
    "## Required files"
   ]
  },
  {
   "cell_type": "markdown",
   "metadata": {},
   "source": [
    "To run this example, the following files must be present in the same directory as this Jupyter script:\n",
    "\n",
    "1) python_model_class.py\n",
    "2) python_model_function.py     "
   ]
  },
  {
   "cell_type": "code",
   "execution_count": 1,
   "metadata": {},
   "outputs": [],
   "source": [
    "from UQpy.SampleMethods import MCS\n",
    "from UQpy.RunModel import RunModel\n",
    "import matplotlib.pyplot as plt\n",
    "import time"
   ]
  },
  {
   "cell_type": "markdown",
   "metadata": {},
   "source": [
    "## Sample generation\n",
    "\n",
    "Use the MCS class to generate 10,000 random samples."
   ]
  },
  {
   "cell_type": "code",
   "execution_count": 2,
   "metadata": {},
   "outputs": [
    {
     "name": "stdout",
     "output_type": "stream",
     "text": [
      "\n",
      "3D N(0,1) random samples.\n",
      "[[ 0.22124676 -2.73698757 -1.13363167]\n",
      " [-0.15161846  1.53301598 -2.04789788]\n",
      " [ 0.06110236 -0.1021005  -0.47047774]\n",
      " ...\n",
      " [ 0.15718257 -0.25706255  0.65202665]\n",
      " [-0.86656116 -0.34444946  1.37782834]\n",
      " [-0.18658988  0.61218115 -1.10699698]]\n"
     ]
    }
   ],
   "source": [
    "# Call MCS to generate samples\n",
    "x_mcs = MCS(dist_name=['Normal','Normal','Normal'], dist_params=[[0,1],[0,1],[0,1]], nsamples=10000) \n",
    "\n",
    "print(\"\\n3D N(0,1) random samples.\")\n",
    "print(x_mcs.samples)"
   ]
  },
  {
   "cell_type": "markdown",
   "metadata": {},
   "source": [
    "## Call to RunModel - Class example"
   ]
  },
  {
   "cell_type": "markdown",
   "metadata": {},
   "source": [
    "This example uses a Python model where the model is defined as a class. The model is in the Python script 'python_model_class.py'"
   ]
  },
  {
   "cell_type": "markdown",
   "metadata": {},
   "source": [
    "### Serial Execution"
   ]
  },
  {
   "cell_type": "code",
   "execution_count": 3,
   "metadata": {},
   "outputs": [
    {
     "name": "stdout",
     "output_type": "stream",
     "text": [
      "\n",
      "Time for serial execution:\n",
      "0.2918539047241211\n"
     ]
    },
    {
     "data": {
      "image/png": "[encoded data removed]",
      "text/plain": [
       "<Figure size 432x288 with 1 Axes>"
      ]
     },
     "metadata": {},
     "output_type": "display_data"
    }
   ],
   "source": [
    "t = time.time()\n",
    "m = RunModel(samples=x_mcs.samples, model_script='python_model_class.py', model_object_name=\"SumRVs\")\n",
    "t_ser_python = time.time() - t\n",
    "print(\"\\nTime for serial execution:\")\n",
    "print(t_ser_python)\n",
    "\n",
    "plt.hist(m.qoi_list,50)\n",
    "plt.show()"
   ]
  },
  {
   "cell_type": "markdown",
   "metadata": {},
   "source": [
    "### Parallel Execution"
   ]
  },
  {
   "cell_type": "code",
   "execution_count": 4,
   "metadata": {},
   "outputs": [
    {
     "name": "stdout",
     "output_type": "stream",
     "text": [
      "\n",
      "Time for parallel execution:\n",
      "1.0469679832458496\n"
     ]
    },
    {
     "data": {
      "image/png": "[encoded data removed]",
      "text/plain": [
       "<Figure size 432x288 with 1 Axes>"
      ]
     },
     "metadata": {},
     "output_type": "display_data"
    }
   ],
   "source": [
    "t = time.time()\n",
    "m = RunModel(samples=x_mcs.samples, model_script='python_model_class.py', model_object_name=\"SumRVs\", ntasks=4)\n",
    "t_par_python = time.time() - t\n",
    "print(\"\\nTime for parallel execution:\")\n",
    "print(t_par_python)\n",
    "\n",
    "plt.hist(m.qoi_list,50)\n",
    "plt.show()"
   ]
  },
  {
   "cell_type": "markdown",
   "metadata": {},
   "source": [
    "## Call to RunModel - function example"
   ]
  },
  {
   "cell_type": "markdown",
   "metadata": {},
   "source": [
    "This example uses a Python model where the model is defined as a function. The model is in the Python script 'python_model_function.py'."
   ]
  },
  {
   "cell_type": "markdown",
   "metadata": {},
   "source": [
    "### Serial Execution"
   ]
  },
  {
   "cell_type": "code",
   "execution_count": 5,
   "metadata": {},
   "outputs": [
    {
     "name": "stdout",
     "output_type": "stream",
     "text": [
      "\n",
      "Time for serial execution:\n",
      "0.24764013290405273\n"
     ]
    },
    {
     "data": {
      "image/png": "[encoded data removed]",
      "text/plain": [
       "<Figure size 432x288 with 1 Axes>"
      ]
     },
     "metadata": {},
     "output_type": "display_data"
    }
   ],
   "source": [
    "t = time.time()\n",
    "m = RunModel(samples=x_mcs.samples, model_script='python_model_function.py', model_object_name=\"sum_rvs\")\n",
    "t_ser_python_func = time.time() - t\n",
    "print(\"\\nTime for serial execution:\")\n",
    "print(t_ser_python_func)\n",
    "\n",
    "plt.hist(m.qoi_list,50)\n",
    "plt.show()"
   ]
  },
  {
   "cell_type": "markdown",
   "metadata": {},
   "source": [
    "### Parallel Execution"
   ]
  },
  {
   "cell_type": "code",
   "execution_count": 6,
   "metadata": {},
   "outputs": [
    {
     "name": "stdout",
     "output_type": "stream",
     "text": [
      "\n",
      "Time for parallel execution:\n",
      "1.262998104095459\n"
     ]
    },
    {
     "data": {
      "image/png": "[encoded data removed]",
      "text/plain": [
       "<Figure size 432x288 with 1 Axes>"
      ]
     },
     "metadata": {},
     "output_type": "display_data"
    }
   ],
   "source": [
    "t = time.time()\n",
    "m = RunModel(samples=x_mcs.samples, model_script='python_model_function.py', model_object_name=\"sum_rvs\", ntasks=4)\n",
    "t_par_python_func = time.time() - t\n",
    "print(\"\\nTime for parallel execution:\")\n",
    "print(t_par_python_func)\n",
    "\n",
    "plt.hist(m.qoi_list,50)\n",
    "plt.show()"
   ]
  },
  {
   "cell_type": "code",
   "execution_count": null,
   "metadata": {
    "collapsed": true
   },
   "outputs": [],
   "source": []
  }
 ],
 "metadata": {
  "kernelspec": {
   "display_name": "Python 3",
   "language": "python",
   "name": "python3"
  },
  "language_info": {
   "codemirror_mode": {
    "name": "ipython",
    "version": 3
   },
   "file_extension": ".py",
   "mimetype": "text/x-python",
   "name": "python",
   "nbconvert_exporter": "python",
   "pygments_lexer": "ipython3",
   "version": "3.6.5"
  }
 },
 "nbformat": 4,
 "nbformat_minor": 2
}
