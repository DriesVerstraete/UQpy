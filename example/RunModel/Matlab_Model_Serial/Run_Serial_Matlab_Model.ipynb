{
 "cells": [
  {
   "cell_type": "markdown",
   "metadata": {},
   "source": [
    "Import the necessary packages"
   ]
  },
  {
   "cell_type": "code",
   "execution_count": 1,
   "metadata": {
    "collapsed": true
   },
   "outputs": [],
   "source": [
    "from UQpy.SampleMethods import MCMC\n",
    "from UQpy.RunModel import RunModel\n",
    "import numpy as np\n",
    "import matplotlib.pyplot as plt\n",
    "import scipy.stats as sp\n",
    "import time"
   ]
  },
  {
   "cell_type": "markdown",
   "metadata": {},
   "source": [
    "Define a Rosenbrock pdf (up to a scale factor) and draw samples from it using the component-wise Modified Metropolis Hanstings algorithm. For illustration purposes, we draw 15 samples with jump of 100,000 samples given the very long correlation length for the MMH on the Rosenbrock density. See Goodman and Weare, 2010."
   ]
  },
  {
   "cell_type": "code",
   "execution_count": 2,
   "metadata": {},
   "outputs": [
    {
     "name": "stdout",
     "output_type": "stream",
     "text": [
      "34.24431824684143\n"
     ]
    }
   ],
   "source": [
    "def Rosenbrock(x, params):\n",
    "    return np.exp(-(100*(x[1]-x[0]**2)**2+(1-x[0])**2)/params[0])\n",
    "\n",
    "t = time.time()\n",
    "x = MCMC(dimension=2, pdf_proposal_type='Normal', pdf_target_type='joint_pdf',\n",
    "         pdf_target=Rosenbrock, pdf_target_params=[20], algorithm='MMH', jump=100000, nsamples=15, seed=None)\n",
    "t_MCMC = time.time()-t\n",
    "print(t_MCMC)"
   ]
  },
  {
   "cell_type": "markdown",
   "metadata": {},
   "source": [
    "To run a third-party model, the sample points can be read from a text file or they can be directly passed into the RunModel class. In this example, the samples are saved as a text file 'UQpy_Samples.txt' and the RunModel class reads the values from this file."
   ]
  },
  {
   "cell_type": "code",
   "execution_count": null,
   "metadata": {
    "collapsed": true
   },
   "outputs": [],
   "source": [
    "np.savetxt('UQpy_Samples.txt', x.samples, fmt='%0.5f')"
   ]
  },
  {
   "cell_type": "markdown",
   "metadata": {},
   "source": [
    "Run the model"
   ]
  },
  {
   "cell_type": "code",
   "execution_count": null,
   "metadata": {},
   "outputs": [],
   "source": [
    "t = time.time()\n",
    "z = RunModel(cpu=1, model_type=None, model_script='UQpy_Model.sh', input_script='UQpy_Input.sh', output_script='UQpy_Output.sh',\n",
    "         dimension=2)\n",
    "t_run = time.time()-t\n",
    "print(t_run)"
   ]
  },
  {
   "cell_type": "markdown",
   "metadata": {},
   "source": [
    "Observe how the data is stored."
   ]
  },
  {
   "cell_type": "code",
   "execution_count": null,
   "metadata": {
    "collapsed": true
   },
   "outputs": [],
   "source": [
    "print('Samples',z.model_eval.samples)\n",
    "print('Soluations',z.model_eval.QOI)"
   ]
  },
  {
   "cell_type": "code",
   "execution_count": null,
   "metadata": {
    "collapsed": true
   },
   "outputs": [],
   "source": []
  }
 ],
 "metadata": {
  "kernelspec": {
   "display_name": "Python 3",
   "language": "python",
   "name": "python3"
  },
  "language_info": {
   "codemirror_mode": {
    "name": "ipython",
    "version": 3
   },
   "file_extension": ".py",
   "mimetype": "text/x-python",
   "name": "python",
   "nbconvert_exporter": "python",
   "pygments_lexer": "ipython3",
   "version": "3.6.2"
  }
 },
 "nbformat": 4,
 "nbformat_minor": 2
}
