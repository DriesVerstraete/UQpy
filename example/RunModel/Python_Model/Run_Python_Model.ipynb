{
 "cells": [
  {
   "cell_type": "markdown",
   "metadata": {},
   "source": [
    "# Example: Run Python model using UQpy RunModel Class\n",
    "Author: Michael D. Shields\n",
    "Date: May 17, 2018"
   ]
  },
  {
   "cell_type": "markdown",
   "metadata": {},
   "source": [
    "In this example, the component-wise modified Metropolis-Hastings is used to draw a small set of (nearly) independent two-dimensional samples from a Rosenbrock distribution. These samples are passed to a Python model (python_model.py) that simply evaluates the sum of the components of each sample and returns this sum as the quantity of interest."
   ]
  },
  {
   "cell_type": "markdown",
   "metadata": {},
   "source": [
    "Import the necessary packages"
   ]
  },
  {
   "cell_type": "code",
   "execution_count": 1,
   "metadata": {
    "collapsed": true
   },
   "outputs": [],
   "source": [
    "from UQpy.SampleMethods import MCMC\n",
    "from UQpy.RunModel import RunModel\n",
    "import numpy as np\n",
    "import time"
   ]
  },
  {
   "cell_type": "markdown",
   "metadata": {},
   "source": [
    "Define a Rosenbrock pdf (up to a scale factor) and draw samples from it using the component-wise Modified Metropolis Hanstings algorithm. For illustration purposes, we draw 15 samples with jump of 100,000 samples given the very long correlation length for the MMH on the Rosenbrock density. See Goodman and Weare, 2010."
   ]
  },
  {
   "cell_type": "code",
   "execution_count": 2,
   "metadata": {},
   "outputs": [
    {
     "name": "stdout",
     "output_type": "stream",
     "text": [
      "30.151395082473755\n"
     ]
    }
   ],
   "source": [
    "def Rosenbrock(x, params):\n",
    "    return np.exp(-(100*(x[1]-x[0]**2)**2+(1-x[0])**2)/params[0])\n",
    "\n",
    "t = time.time()\n",
    "x = MCMC(dimension=2, pdf_proposal_type='Normal', pdf_target_type='joint_pdf',\n",
    "         pdf_target=Rosenbrock, pdf_target_params=[20], algorithm='MMH', jump=100000, nsamples=15, seed=None)\n",
    "t_MCMC = time.time()-t\n",
    "print(t_MCMC)"
   ]
  },
  {
   "cell_type": "markdown",
   "metadata": {},
   "source": [
    "Run the model 'python_model.py' for each s. This model contains a single class that accepts samples from x (x.samples) and evaluates the sum of the components of each sample over the two dimensions."
   ]
  },
  {
   "cell_type": "code",
   "execution_count": 4,
   "metadata": {},
   "outputs": [
    {
     "name": "stdout",
     "output_type": "stream",
     "text": [
      "\n",
      "Evaluating the model...\n",
      "\n",
      "0.0033211708068847656\n"
     ]
    }
   ],
   "source": [
    "t = time.time()\n",
    "z = RunModel(cpu=1, model_type='python', model_script='python_model.py', dimension=2, samples=x.samples)\n",
    "t_run = time.time()-t\n",
    "print(t_run)"
   ]
  },
  {
   "cell_type": "markdown",
   "metadata": {},
   "source": [
    "Observe how the data is stored. Notice that the data is stored inside UQpy in a manner consistent with the way the data is stored if the model is run using third-party software either in parallel or serial."
   ]
  },
  {
   "cell_type": "code",
   "execution_count": 5,
   "metadata": {},
   "outputs": [
    {
     "name": "stdout",
     "output_type": "stream",
     "text": [
      "Samples [[  0.           0.        ]\n",
      " [  1.46075482   1.95478602]\n",
      " [  0.05443252  -0.69119813]\n",
      " [  0.33036508   0.092916  ]\n",
      " [  0.25731735   0.38677857]\n",
      " [  4.65632673  21.59315043]\n",
      " [  1.25911346   1.69504015]\n",
      " [  2.10803731   3.90503472]\n",
      " [  0.72722666   0.62894236]\n",
      " [  0.39259136   0.07116775]\n",
      " [  0.67580745   0.28434175]\n",
      " [ -0.1190521   -0.39430051]\n",
      " [  2.10449142   4.75837251]\n",
      " [  1.72901917   2.37298021]\n",
      " [  6.25319072  38.83242113]]\n",
      "Soluations [0.0, 3.4155408418590589, -0.63676560874264088, 0.42328108629629146, 0.64409591291744583, 26.249477165774387, 2.9541536103895614, 6.0130720306013297, 1.3561690143960232, 0.46375910739594972, 0.96014919987312553, -0.51335260861813237, 6.8628639270601326, 4.1019993784158801, 45.08561185468843]\n"
     ]
    }
   ],
   "source": [
    "print('Samples',z.model_eval.samples)\n",
    "print('Soluations',z.model_eval.QOI)"
   ]
  },
  {
   "cell_type": "markdown",
   "metadata": {},
   "source": [
    "Notice that the model does not create the 'UQpyOut' directory. All calculations are performed internally in python and are not saved to text files."
   ]
  },
  {
   "cell_type": "code",
   "execution_count": null,
   "metadata": {
    "collapsed": true
   },
   "outputs": [],
   "source": []
  }
 ],
 "metadata": {
  "kernelspec": {
   "display_name": "Python 3",
   "language": "python",
   "name": "python3"
  },
  "language_info": {
   "codemirror_mode": {
    "name": "ipython",
    "version": 3
   },
   "file_extension": ".py",
   "mimetype": "text/x-python",
   "name": "python",
   "nbconvert_exporter": "python",
   "pygments_lexer": "ipython3",
   "version": "3.6.2"
  }
 },
 "nbformat": 4,
 "nbformat_minor": 2
}
